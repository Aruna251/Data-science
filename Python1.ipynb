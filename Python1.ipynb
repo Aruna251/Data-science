{
 "cells": [
  {
   "cell_type": "code",
   "execution_count": 1,
   "id": "41ded944",
   "metadata": {},
   "outputs": [
    {
     "name": "stdout",
     "output_type": "stream",
     "text": [
      "hello data science\n"
     ]
    }
   ],
   "source": [
    "print(\"hello data science\")"
   ]
  },
  {
   "cell_type": "code",
   "execution_count": 3,
   "id": "f0832c89",
   "metadata": {},
   "outputs": [
    {
     "name": "stdout",
     "output_type": "stream",
     "text": [
      "Hello Aruna\n"
     ]
    }
   ],
   "source": [
    "print(\"Hello Aruna\")"
   ]
  },
  {
   "cell_type": "code",
   "execution_count": 6,
   "id": "237fa149",
   "metadata": {},
   "outputs": [
    {
     "name": "stdout",
     "output_type": "stream",
     "text": [
      "10+15\n"
     ]
    }
   ],
   "source": [
    "print(\"10+15\")"
   ]
  },
  {
   "cell_type": "code",
   "execution_count": 5,
   "id": "f830a4e4",
   "metadata": {},
   "outputs": [
    {
     "data": {
      "text/plain": [
       "150"
      ]
     },
     "execution_count": 5,
     "metadata": {},
     "output_type": "execute_result"
    }
   ],
   "source": [
    "10*15"
   ]
  },
  {
   "cell_type": "code",
   "execution_count": 7,
   "id": "fbd808dc",
   "metadata": {},
   "outputs": [
    {
     "data": {
      "text/plain": [
       "25"
      ]
     },
     "execution_count": 7,
     "metadata": {},
     "output_type": "execute_result"
    }
   ],
   "source": [
    "10+15"
   ]
  },
  {
   "cell_type": "code",
   "execution_count": 8,
   "id": "7e841ebd",
   "metadata": {},
   "outputs": [
    {
     "name": "stdout",
     "output_type": "stream",
     "text": [
      "25\n"
     ]
    }
   ],
   "source": [
    "print(10+15)"
   ]
  },
  {
   "cell_type": "code",
   "execution_count": 9,
   "id": "e00a626a",
   "metadata": {},
   "outputs": [],
   "source": [
    "l1=[25,36,49]"
   ]
  },
  {
   "cell_type": "code",
   "execution_count": 10,
   "id": "73c6c7db",
   "metadata": {},
   "outputs": [
    {
     "data": {
      "text/plain": [
       "36"
      ]
     },
     "execution_count": 10,
     "metadata": {},
     "output_type": "execute_result"
    }
   ],
   "source": [
    "l1[1]"
   ]
  },
  {
   "cell_type": "code",
   "execution_count": 11,
   "id": "55c579bb",
   "metadata": {},
   "outputs": [],
   "source": [
    "d1={1:1,2:4,3:9,4:16,5:25,6:36}"
   ]
  },
  {
   "cell_type": "code",
   "execution_count": 13,
   "id": "a346294e",
   "metadata": {},
   "outputs": [
    {
     "data": {
      "text/plain": [
       "{1: 1, 2: 4, 3: 9, 4: 16, 5: 25, 6: 36}"
      ]
     },
     "execution_count": 13,
     "metadata": {},
     "output_type": "execute_result"
    }
   ],
   "source": [
    "d1"
   ]
  },
  {
   "cell_type": "markdown",
   "id": "50396871",
   "metadata": {},
   "source": [
    "l1\n"
   ]
  },
  {
   "cell_type": "code",
   "execution_count": 14,
   "id": "3750c92f",
   "metadata": {},
   "outputs": [
    {
     "data": {
      "text/plain": [
       "[25, 36, 49]"
      ]
     },
     "execution_count": 14,
     "metadata": {},
     "output_type": "execute_result"
    }
   ],
   "source": [
    "l1"
   ]
  },
  {
   "cell_type": "code",
   "execution_count": 15,
   "id": "88b09809",
   "metadata": {},
   "outputs": [],
   "source": [
    "x=0"
   ]
  },
  {
   "cell_type": "code",
   "execution_count": 16,
   "id": "2acd961c",
   "metadata": {},
   "outputs": [],
   "source": [
    "d2=dict.fromkeys(l1,x)"
   ]
  },
  {
   "cell_type": "code",
   "execution_count": 17,
   "id": "26913e9b",
   "metadata": {},
   "outputs": [
    {
     "data": {
      "text/plain": [
       "{25: 0, 36: 0, 49: 0}"
      ]
     },
     "execution_count": 17,
     "metadata": {},
     "output_type": "execute_result"
    }
   ],
   "source": [
    "d2"
   ]
  },
  {
   "cell_type": "code",
   "execution_count": 18,
   "id": "2c323796",
   "metadata": {},
   "outputs": [],
   "source": [
    "d3=dict.fromkeys(l1)"
   ]
  },
  {
   "cell_type": "code",
   "execution_count": 19,
   "id": "a2031714",
   "metadata": {},
   "outputs": [
    {
     "data": {
      "text/plain": [
       "{25: None, 36: None, 49: None}"
      ]
     },
     "execution_count": 19,
     "metadata": {},
     "output_type": "execute_result"
    }
   ],
   "source": [
    "d3"
   ]
  },
  {
   "cell_type": "code",
   "execution_count": null,
   "id": "bb884ebd",
   "metadata": {},
   "outputs": [],
   "source": []
  }
 ],
 "metadata": {
  "kernelspec": {
   "display_name": "Python 3 (ipykernel)",
   "language": "python",
   "name": "python3"
  },
  "language_info": {
   "codemirror_mode": {
    "name": "ipython",
    "version": 3
   },
   "file_extension": ".py",
   "mimetype": "text/x-python",
   "name": "python",
   "nbconvert_exporter": "python",
   "pygments_lexer": "ipython3",
   "version": "3.11.3"
  }
 },
 "nbformat": 4,
 "nbformat_minor": 5
}
